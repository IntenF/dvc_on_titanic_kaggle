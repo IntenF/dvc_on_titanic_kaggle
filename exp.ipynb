{
 "cells": [
  {
   "cell_type": "code",
   "execution_count": 150,
   "metadata": {},
   "outputs": [],
   "source": [
    "import pandas as pd\n",
    "from pathlib  import Path\n",
    "from sklearn import tree"
   ]
  },
  {
   "cell_type": "code",
   "execution_count": 151,
   "metadata": {},
   "outputs": [],
   "source": [
    "train_csv = Path('data/raw/train.csv')\n",
    "test_csv = Path('data/raw/test.csv')"
   ]
  },
  {
   "cell_type": "code",
   "execution_count": 152,
   "metadata": {},
   "outputs": [],
   "source": [
    "train_df = pd.read_csv(train_csv)\n",
    "test_df = pd.read_csv(test_csv)\n",
    "test_df['Survived'] = -1\n",
    "train_df['is_Test'] = 0\n",
    "test_df['is_Test'] = 1"
   ]
  },
  {
   "cell_type": "code",
   "execution_count": 153,
   "metadata": {},
   "outputs": [],
   "source": [
    "concat_df = pd.concat([train_df, test_df])\n",
    "concat_df = pd.get_dummies(concat_df , dummy_na  = False, drop_first = False,columns=['Sex', 'Ticket', 'Cabin', 'Embarked'])\n",
    "concat_df['Age'] = concat_df['Age'].fillna(train_df['Age'].mean())\n",
    "concat_df['Fare'] = concat_df['Fare'].fillna(train_df['Fare'].mean())\n",
    "del concat_df['Name']\n",
    "concat_df.to_pickle('data/out/preprocess.pkl')"
   ]
  },
  {
   "cell_type": "code",
   "execution_count": 154,
   "metadata": {},
   "outputs": [],
   "source": [
    "df = pd.read_pickle('data/out/preprocess.pkl')"
   ]
  },
  {
   "cell_type": "code",
   "execution_count": 155,
   "metadata": {},
   "outputs": [],
   "source": [
    "train_valid = df.query('is_Test == 0').copy()\n",
    "test = df.query('is_Test == 1').copy()"
   ]
  },
  {
   "cell_type": "code",
   "execution_count": 156,
   "metadata": {},
   "outputs": [],
   "source": [
    "from sklearn.model_selection import train_test_split\n",
    "train, valid = train_test_split(train_valid, test_size=0.2, shuffle=True, random_state=0)\n",
    "\n",
    "train_X = train.drop(columns=['Survived', 'is_Test'])\n",
    "train_y = train['Survived']\n",
    "valid_X = valid.drop(columns=['Survived', 'is_Test'])\n",
    "valid_y = valid['Survived']\n",
    "test_X = test.drop(columns=['Survived', 'is_Test'])"
   ]
  },
  {
   "cell_type": "code",
   "execution_count": 157,
   "metadata": {},
   "outputs": [],
   "source": [
    "clf = tree.DecisionTreeClassifier().fit(train_X, train_y)"
   ]
  },
  {
   "cell_type": "code",
   "execution_count": 162,
   "metadata": {},
   "outputs": [],
   "source": [
    "accuracy = (clf.predict(valid_X) == valid_y).mean()"
   ]
  },
  {
   "cell_type": "code",
   "execution_count": 173,
   "metadata": {},
   "outputs": [],
   "source": [
    "import yaml\n",
    "obj = {'accuracy': accuracy}\n",
    "with open('data/out/summary.yaml', 'w') as f:\n",
    "    yaml.dump(obj, f, encoding='utf-8')"
   ]
  },
  {
   "cell_type": "code",
   "execution_count": 159,
   "metadata": {},
   "outputs": [],
   "source": [
    "test['Survived'] = clf.predict(test_X)"
   ]
  },
  {
   "cell_type": "code",
   "execution_count": 160,
   "metadata": {},
   "outputs": [],
   "source": [
    "test[['PassengerId', 'Survived']].to_csv('data/out/gender_submission.csv', index=None)"
   ]
  }
 ],
 "metadata": {
  "interpreter": {
   "hash": "6887b44445ca00515ea360f1bd11d3493db2f7be3b5f40ee5a7245e3afb51e0b"
  },
  "kernelspec": {
   "display_name": "Python 3.8.10 ('.venv': venv)",
   "language": "python",
   "name": "python3"
  },
  "language_info": {
   "codemirror_mode": {
    "name": "ipython",
    "version": 3
   },
   "file_extension": ".py",
   "mimetype": "text/x-python",
   "name": "python",
   "nbconvert_exporter": "python",
   "pygments_lexer": "ipython3",
   "version": "3.8.10"
  },
  "orig_nbformat": 4
 },
 "nbformat": 4,
 "nbformat_minor": 2
}
